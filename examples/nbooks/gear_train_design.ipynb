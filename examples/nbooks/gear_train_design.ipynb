{
 "cells": [
  {
   "cell_type": "code",
   "execution_count": 9,
   "metadata": {},
   "outputs": [],
   "source": [
    "import matplotlib.pyplot as plt\n",
    "import numpy as np\n",
    "import math\n",
    "\n",
    "def compound_train(mv, maxstages=5, eps=0.001, Nmin=14, Nmax=200):\n",
    "    r = (mv)**(-1)\n",
    "    n = 1\n",
    "    while n < maxstages:\n",
    "        N1, N2 = nstage(r, n, eps, Nmin, Nmax)\n",
    "        if not(N1 is None):\n",
    "            if isacceptable((N1/N2)**n, mv, eps):\n",
    "                break\n",
    "        n += 1\n",
    "    if N1 is None:\n",
    "        print(\"Solution not found\")\n",
    "        return None\n",
    "    mvc = (N1/N2)**n\n",
    "    err = abs((mv-mvc)/mv)\n",
    "    return N1,N2,n,err\n",
    "        \n",
    "def nstage(r,n,eps,Nmin,Nmax):\n",
    "    f = r**(1/n)\n",
    "    if f > (Nmax/Nmin):\n",
    "        return None, None\n",
    "    for N1 in range(Nmin,Nmax):\n",
    "        N2 = N1*f\n",
    "        if Nmin <= round(N2) <= Nmax:\n",
    "            return N1,round(N2)\n",
    "    return None,None\n",
    "    \n",
    "def isacceptable(xreal,xcalc,eps=0.2/100):\n",
    "    err = abs((xreal-xcalc)/xreal)\n",
    "    if err >= eps:\n",
    "        return False\n",
    "    return True"
   ]
  },
  {
   "cell_type": "code",
   "execution_count": 17,
   "metadata": {},
   "outputs": [
    {
     "data": {
      "image/png": "[encoded data removed]",
      "text/latex": [
       "$\\displaystyle \\left( 16, \\  35, \\  5, \\  0.0017721187600405752\\right)$"
      ],
      "text/plain": [
       "(16, 35, 5, 0.0017721187600405752)"
      ]
     },
     "execution_count": 17,
     "metadata": {},
     "output_type": "execute_result"
    }
   ],
   "source": [
    "mv = 0.02\n",
    "compound_train(mv, maxstages=100, eps=0.2/100, Nmin=16, Nmax=40)"
   ]
  },
  {
   "cell_type": "code",
   "execution_count": 18,
   "metadata": {},
   "outputs": [
    {
     "data": {
      "image/png": "[encoded data removed]",
      "text/latex": [
       "$\\displaystyle 0.01996455762479919$"
      ],
      "text/plain": [
       "0.01996455762479919"
      ]
     },
     "execution_count": 18,
     "metadata": {},
     "output_type": "execute_result"
    }
   ],
   "source": [
    "(16/35)**5"
   ]
  },
  {
   "cell_type": "code",
   "execution_count": null,
   "metadata": {},
   "outputs": [],
   "source": []
  }
 ],
 "metadata": {
  "kernelspec": {
   "display_name": "Python 3",
   "language": "python",
   "name": "python3"
  },
  "language_info": {
   "codemirror_mode": {
    "name": "ipython",
    "version": 3
   },
   "file_extension": ".py",
   "mimetype": "text/x-python",
   "name": "python",
   "nbconvert_exporter": "python",
   "pygments_lexer": "ipython3",
   "version": "3.6.5"
  }
 },
 "nbformat": 4,
 "nbformat_minor": 2
}
